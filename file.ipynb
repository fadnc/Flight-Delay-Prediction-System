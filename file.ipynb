{
 "cells": [
  {
   "cell_type": "code",
   "execution_count": 88,
   "id": "09e4432a",
   "metadata": {},
   "outputs": [],
   "source": [
    "import numpy as np\n",
    "import pandas as pd\n",
    "from sklearn.model_selection import train_test_split\n",
    "from sklearn.ensemble import RandomForestRegressor\n",
    "from sklearn.metrics import mean_absolute_error, r2_score\n",
    "import matplotlib.pyplot as plt\n",
    "import seaborn as sns"
   ]
  },
  {
   "cell_type": "code",
   "execution_count": 89,
   "id": "9e77ef5f",
   "metadata": {},
   "outputs": [
    {
     "data": {
      "application/vnd.microsoft.datawrangler.viewer.v0+json": {
       "columns": [
        {
         "name": "index",
         "rawType": "int64",
         "type": "integer"
        },
        {
         "name": "year",
         "rawType": "int64",
         "type": "integer"
        },
        {
         "name": "month",
         "rawType": "int64",
         "type": "integer"
        },
        {
         "name": "carrier",
         "rawType": "object",
         "type": "string"
        },
        {
         "name": "carrier_name",
         "rawType": "object",
         "type": "string"
        },
        {
         "name": "airport",
         "rawType": "object",
         "type": "string"
        },
        {
         "name": "airport_name",
         "rawType": "object",
         "type": "string"
        },
        {
         "name": "arr_flights",
         "rawType": "float64",
         "type": "float"
        },
        {
         "name": "arr_del15",
         "rawType": "float64",
         "type": "float"
        },
        {
         "name": "carrier_ct",
         "rawType": "float64",
         "type": "float"
        },
        {
         "name": "weather_ct",
         "rawType": "float64",
         "type": "float"
        },
        {
         "name": "nas_ct",
         "rawType": "float64",
         "type": "float"
        },
        {
         "name": "security_ct",
         "rawType": "float64",
         "type": "float"
        },
        {
         "name": "late_aircraft_ct",
         "rawType": "float64",
         "type": "float"
        },
        {
         "name": "arr_cancelled",
         "rawType": "float64",
         "type": "float"
        },
        {
         "name": "arr_diverted",
         "rawType": "float64",
         "type": "float"
        },
        {
         "name": "arr_delay",
         "rawType": "float64",
         "type": "float"
        },
        {
         "name": "carrier_delay",
         "rawType": "float64",
         "type": "float"
        },
        {
         "name": "weather_delay",
         "rawType": "float64",
         "type": "float"
        },
        {
         "name": "nas_delay",
         "rawType": "float64",
         "type": "float"
        },
        {
         "name": "security_delay",
         "rawType": "float64",
         "type": "float"
        },
        {
         "name": "late_aircraft_delay",
         "rawType": "float64",
         "type": "float"
        }
       ],
       "ref": "d59093f8-5465-47ed-a51b-e19a4b9f1b1e",
       "rows": [
        [
         "0",
         "2025",
         "7",
         "YV",
         "Mesa Airlines Inc.",
         "BWI",
         "Baltimore, MD: Baltimore/Washington International Thurgood Marshall",
         "18.0",
         "2.0",
         "1.43",
         "0.0",
         "0.57",
         "0.0",
         "0.0",
         "0.0",
         "0.0",
         "44.0",
         "32.0",
         "0.0",
         "12.0",
         "0.0",
         "0.0"
        ],
        [
         "1",
         "2025",
         "7",
         "YV",
         "Mesa Airlines Inc.",
         "CHS",
         "Charleston, SC: Charleston AFB/International",
         "48.0",
         "16.0",
         "4.06",
         "3.15",
         "5.49",
         "0.0",
         "3.3",
         "2.0",
         "0.0",
         "1282.0",
         "331.0",
         "438.0",
         "259.0",
         "0.0",
         "254.0"
        ],
        [
         "2",
         "2025",
         "7",
         "YV",
         "Mesa Airlines Inc.",
         "CLE",
         "Cleveland, OH: Cleveland-Hopkins International",
         "65.0",
         "10.0",
         "3.53",
         "1.0",
         "3.04",
         "0.0",
         "2.43",
         "2.0",
         "0.0",
         "735.0",
         "151.0",
         "172.0",
         "139.0",
         "0.0",
         "273.0"
        ],
        [
         "3",
         "2025",
         "7",
         "YV",
         "Mesa Airlines Inc.",
         "CLT",
         "Charlotte, NC: Charlotte Douglas International",
         "134.0",
         "31.0",
         "13.19",
         "2.43",
         "10.63",
         "0.0",
         "4.74",
         "8.0",
         "0.0",
         "2264.0",
         "798.0",
         "303.0",
         "702.0",
         "0.0",
         "461.0"
        ],
        [
         "4",
         "2025",
         "7",
         "YV",
         "Mesa Airlines Inc.",
         "CMH",
         "Columbus, OH: John Glenn Columbus International",
         "61.0",
         "12.0",
         "6.44",
         "0.28",
         "3.59",
         "0.0",
         "1.69",
         "0.0",
         "0.0",
         "630.0",
         "211.0",
         "17.0",
         "123.0",
         "0.0",
         "279.0"
        ]
       ],
       "shape": {
        "columns": 21,
        "rows": 5
       }
      },
      "text/html": [
       "<div>\n",
       "<style scoped>\n",
       "    .dataframe tbody tr th:only-of-type {\n",
       "        vertical-align: middle;\n",
       "    }\n",
       "\n",
       "    .dataframe tbody tr th {\n",
       "        vertical-align: top;\n",
       "    }\n",
       "\n",
       "    .dataframe thead th {\n",
       "        text-align: right;\n",
       "    }\n",
       "</style>\n",
       "<table border=\"1\" class=\"dataframe\">\n",
       "  <thead>\n",
       "    <tr style=\"text-align: right;\">\n",
       "      <th></th>\n",
       "      <th>year</th>\n",
       "      <th>month</th>\n",
       "      <th>carrier</th>\n",
       "      <th>carrier_name</th>\n",
       "      <th>airport</th>\n",
       "      <th>airport_name</th>\n",
       "      <th>arr_flights</th>\n",
       "      <th>arr_del15</th>\n",
       "      <th>carrier_ct</th>\n",
       "      <th>weather_ct</th>\n",
       "      <th>...</th>\n",
       "      <th>security_ct</th>\n",
       "      <th>late_aircraft_ct</th>\n",
       "      <th>arr_cancelled</th>\n",
       "      <th>arr_diverted</th>\n",
       "      <th>arr_delay</th>\n",
       "      <th>carrier_delay</th>\n",
       "      <th>weather_delay</th>\n",
       "      <th>nas_delay</th>\n",
       "      <th>security_delay</th>\n",
       "      <th>late_aircraft_delay</th>\n",
       "    </tr>\n",
       "  </thead>\n",
       "  <tbody>\n",
       "    <tr>\n",
       "      <th>0</th>\n",
       "      <td>2025</td>\n",
       "      <td>7</td>\n",
       "      <td>YV</td>\n",
       "      <td>Mesa Airlines Inc.</td>\n",
       "      <td>BWI</td>\n",
       "      <td>Baltimore, MD: Baltimore/Washington Internatio...</td>\n",
       "      <td>18.0</td>\n",
       "      <td>2.0</td>\n",
       "      <td>1.43</td>\n",
       "      <td>0.00</td>\n",
       "      <td>...</td>\n",
       "      <td>0.0</td>\n",
       "      <td>0.00</td>\n",
       "      <td>0.0</td>\n",
       "      <td>0.0</td>\n",
       "      <td>44.0</td>\n",
       "      <td>32.0</td>\n",
       "      <td>0.0</td>\n",
       "      <td>12.0</td>\n",
       "      <td>0.0</td>\n",
       "      <td>0.0</td>\n",
       "    </tr>\n",
       "    <tr>\n",
       "      <th>1</th>\n",
       "      <td>2025</td>\n",
       "      <td>7</td>\n",
       "      <td>YV</td>\n",
       "      <td>Mesa Airlines Inc.</td>\n",
       "      <td>CHS</td>\n",
       "      <td>Charleston, SC: Charleston AFB/International</td>\n",
       "      <td>48.0</td>\n",
       "      <td>16.0</td>\n",
       "      <td>4.06</td>\n",
       "      <td>3.15</td>\n",
       "      <td>...</td>\n",
       "      <td>0.0</td>\n",
       "      <td>3.30</td>\n",
       "      <td>2.0</td>\n",
       "      <td>0.0</td>\n",
       "      <td>1282.0</td>\n",
       "      <td>331.0</td>\n",
       "      <td>438.0</td>\n",
       "      <td>259.0</td>\n",
       "      <td>0.0</td>\n",
       "      <td>254.0</td>\n",
       "    </tr>\n",
       "    <tr>\n",
       "      <th>2</th>\n",
       "      <td>2025</td>\n",
       "      <td>7</td>\n",
       "      <td>YV</td>\n",
       "      <td>Mesa Airlines Inc.</td>\n",
       "      <td>CLE</td>\n",
       "      <td>Cleveland, OH: Cleveland-Hopkins International</td>\n",
       "      <td>65.0</td>\n",
       "      <td>10.0</td>\n",
       "      <td>3.53</td>\n",
       "      <td>1.00</td>\n",
       "      <td>...</td>\n",
       "      <td>0.0</td>\n",
       "      <td>2.43</td>\n",
       "      <td>2.0</td>\n",
       "      <td>0.0</td>\n",
       "      <td>735.0</td>\n",
       "      <td>151.0</td>\n",
       "      <td>172.0</td>\n",
       "      <td>139.0</td>\n",
       "      <td>0.0</td>\n",
       "      <td>273.0</td>\n",
       "    </tr>\n",
       "    <tr>\n",
       "      <th>3</th>\n",
       "      <td>2025</td>\n",
       "      <td>7</td>\n",
       "      <td>YV</td>\n",
       "      <td>Mesa Airlines Inc.</td>\n",
       "      <td>CLT</td>\n",
       "      <td>Charlotte, NC: Charlotte Douglas International</td>\n",
       "      <td>134.0</td>\n",
       "      <td>31.0</td>\n",
       "      <td>13.19</td>\n",
       "      <td>2.43</td>\n",
       "      <td>...</td>\n",
       "      <td>0.0</td>\n",
       "      <td>4.74</td>\n",
       "      <td>8.0</td>\n",
       "      <td>0.0</td>\n",
       "      <td>2264.0</td>\n",
       "      <td>798.0</td>\n",
       "      <td>303.0</td>\n",
       "      <td>702.0</td>\n",
       "      <td>0.0</td>\n",
       "      <td>461.0</td>\n",
       "    </tr>\n",
       "    <tr>\n",
       "      <th>4</th>\n",
       "      <td>2025</td>\n",
       "      <td>7</td>\n",
       "      <td>YV</td>\n",
       "      <td>Mesa Airlines Inc.</td>\n",
       "      <td>CMH</td>\n",
       "      <td>Columbus, OH: John Glenn Columbus International</td>\n",
       "      <td>61.0</td>\n",
       "      <td>12.0</td>\n",
       "      <td>6.44</td>\n",
       "      <td>0.28</td>\n",
       "      <td>...</td>\n",
       "      <td>0.0</td>\n",
       "      <td>1.69</td>\n",
       "      <td>0.0</td>\n",
       "      <td>0.0</td>\n",
       "      <td>630.0</td>\n",
       "      <td>211.0</td>\n",
       "      <td>17.0</td>\n",
       "      <td>123.0</td>\n",
       "      <td>0.0</td>\n",
       "      <td>279.0</td>\n",
       "    </tr>\n",
       "  </tbody>\n",
       "</table>\n",
       "<p>5 rows × 21 columns</p>\n",
       "</div>"
      ],
      "text/plain": [
       "   year  month carrier        carrier_name airport  \\\n",
       "0  2025      7      YV  Mesa Airlines Inc.     BWI   \n",
       "1  2025      7      YV  Mesa Airlines Inc.     CHS   \n",
       "2  2025      7      YV  Mesa Airlines Inc.     CLE   \n",
       "3  2025      7      YV  Mesa Airlines Inc.     CLT   \n",
       "4  2025      7      YV  Mesa Airlines Inc.     CMH   \n",
       "\n",
       "                                        airport_name  arr_flights  arr_del15  \\\n",
       "0  Baltimore, MD: Baltimore/Washington Internatio...         18.0        2.0   \n",
       "1       Charleston, SC: Charleston AFB/International         48.0       16.0   \n",
       "2     Cleveland, OH: Cleveland-Hopkins International         65.0       10.0   \n",
       "3     Charlotte, NC: Charlotte Douglas International        134.0       31.0   \n",
       "4    Columbus, OH: John Glenn Columbus International         61.0       12.0   \n",
       "\n",
       "   carrier_ct  weather_ct  ...  security_ct  late_aircraft_ct  arr_cancelled  \\\n",
       "0        1.43        0.00  ...          0.0              0.00            0.0   \n",
       "1        4.06        3.15  ...          0.0              3.30            2.0   \n",
       "2        3.53        1.00  ...          0.0              2.43            2.0   \n",
       "3       13.19        2.43  ...          0.0              4.74            8.0   \n",
       "4        6.44        0.28  ...          0.0              1.69            0.0   \n",
       "\n",
       "   arr_diverted  arr_delay  carrier_delay  weather_delay  nas_delay  \\\n",
       "0           0.0       44.0           32.0            0.0       12.0   \n",
       "1           0.0     1282.0          331.0          438.0      259.0   \n",
       "2           0.0      735.0          151.0          172.0      139.0   \n",
       "3           0.0     2264.0          798.0          303.0      702.0   \n",
       "4           0.0      630.0          211.0           17.0      123.0   \n",
       "\n",
       "   security_delay  late_aircraft_delay  \n",
       "0             0.0                  0.0  \n",
       "1             0.0                254.0  \n",
       "2             0.0                273.0  \n",
       "3             0.0                461.0  \n",
       "4             0.0                279.0  \n",
       "\n",
       "[5 rows x 21 columns]"
      ]
     },
     "execution_count": 89,
     "metadata": {},
     "output_type": "execute_result"
    }
   ],
   "source": [
    "df = pd.read_csv(r'data\\Airline_Delay_Cause.csv')\n",
    "df.head(5)"
   ]
  },
  {
   "cell_type": "code",
   "execution_count": null,
   "id": "3b343ee3",
   "metadata": {},
   "outputs": [
    {
     "name": "stdout",
     "output_type": "stream",
     "text": [
      "Cleaned Data Shape: (1890, 22)\n"
     ]
    }
   ],
   "source": [
    "# Drop the single row with a missing target-related values \n",
    "df.dropna(subset=['arr_del15'], inplace=True)\n",
    "\n",
    "# Filter out records with no arriving flights\n",
    "df = df[df['arr_flights'] > 0].copy()\n",
    "\n",
    "# Create the Target Variable: Delay Rate\n",
    "# Target: The proportion of flights delayed >= 15 minutes\n",
    "df['delay_rate'] = df['arr_del15'] / df['arr_flights']\n",
    "\n",
    "print(f\"Cleaned Data Shape: {df.shape}\")"
   ]
  },
  {
   "cell_type": "markdown",
   "id": "1b89e1d6",
   "metadata": {},
   "source": [
    "# Feature Engineering\n"
   ]
  },
  {
   "cell_type": "code",
   "execution_count": 91,
   "id": "bd0f83ae",
   "metadata": {},
   "outputs": [],
   "source": [
    "# --- 3. Feature Engineering: Target Encoding ---\n",
    "# Target Encoding is used for high-cardinality categorical features (airport, carrier)\n",
    "# to prevent creating hundreds of sparse columns via One-Hot Encoding.\n",
    "\n",
    "def target_encode_feature(data, feature_col, target_col):\n",
    "    \"\"\"Calculates the mean of the target_col grouped by the feature_col.\"\"\"\n",
    "    # Calculate the mean delay rate for each group\n",
    "    mapping = data.groupby(feature_col)[target_col].mean()\n",
    "    # Apply the mean to create the encoded column\n",
    "    encoded_col_name = f\"{feature_col.split('_')[0]}_encoded\"\n",
    "    data[encoded_col_name] = data[feature_col].map(mapping)\n",
    "    return data\n",
    "\n",
    "# Encode Carrier Name\n",
    "df = target_encode_feature(df, 'carrier_name', 'delay_rate')\n",
    "\n",
    "# Encode Airport Name\n",
    "df = target_encode_feature(df, 'airport_name', 'delay_rate')\n",
    "\n",
    "# --- 4. Define Features and Target ---\n",
    "# 'year' and 'month' are included as time-based features, though 'airport_encoded'\n",
    "# and 'carrier_encoded' are the primary drivers. 'arr_flights' acts as a traffic volume feature.\n",
    "FEATURES = ['year', 'month', 'arr_flights', 'carrier_encoded', 'airport_encoded']\n",
    "TARGET = 'delay_rate'\n",
    "\n",
    "X = df[FEATURES]\n",
    "y = df[TARGET]"
   ]
  },
  {
   "cell_type": "markdown",
   "id": "6d39bcba",
   "metadata": {},
   "source": [
    "# Model Training and Evaluation (Random Forest Regressor)"
   ]
  },
  {
   "cell_type": "code",
   "execution_count": 93,
   "id": "d4defdbf",
   "metadata": {},
   "outputs": [
    {
     "name": "stdout",
     "output_type": "stream",
     "text": [
      "Train/Test Split: 1512 training samples, 378 testing samples.\n",
      "\n",
      "--- Training Model ---\n",
      "Training Complete.\n",
      "\n",
      "--- Model Performance Metrics ---\n",
      "Model Used: Random Forest Regressor\n",
      "Mean Absolute Error (MAE): 0.0646\n",
      "R-squared Score (R2): 0.4127\n"
     ]
    }
   ],
   "source": [
    "# --- 5. Train-Test Split ---\n",
    "# Use a standard 80/20 split for training and testing\n",
    "X_train, X_test, y_train, y_test = train_test_split(\n",
    "    X, y, test_size=0.2, random_state=42\n",
    ")\n",
    "print(f\"Train/Test Split: {X_train.shape[0]} training samples, {X_test.shape[0]} testing samples.\")\n",
    "\n",
    "\n",
    "# --- 6. Model Training ---\n",
    "# Using Random Forest as a high-performance ensemble model\n",
    "rf_model = RandomForestRegressor(\n",
    "    n_estimators=100,             # Number of trees\n",
    "    max_depth=10,                 # Max depth to prevent overfitting\n",
    "    random_state=42,\n",
    "    n_jobs=-1                     # Utilize all available cores\n",
    ")\n",
    "\n",
    "print(\"\\n--- Training Model ---\")\n",
    "rf_model.fit(X_train, y_train)\n",
    "print(\"Training Complete.\")\n",
    "\n",
    "\n",
    "# --- 7. Model Prediction and Evaluation ---\n",
    "y_pred = rf_model.predict(X_test)\n",
    "\n",
    "# Calculate key metrics\n",
    "mae = mean_absolute_error(y_test, y_pred)\n",
    "r2 = r2_score(y_test, y_pred)\n",
    "\n",
    "print(\"\\n--- Model Performance Metrics ---\")\n",
    "print(f\"Model Used: Random Forest Regressor\")\n",
    "print(f\"Mean Absolute Error (MAE): {mae:.4f}\")\n",
    "print(f\"R-squared Score (R2): {r2:.4f}\")"
   ]
  },
  {
   "cell_type": "markdown",
   "id": "52f1fdbf",
   "metadata": {},
   "source": [
    "# Model Interpretability and Visualization"
   ]
  },
  {
   "cell_type": "code",
   "execution_count": 94,
   "id": "fa3b812b",
   "metadata": {},
   "outputs": [
    {
     "name": "stdout",
     "output_type": "stream",
     "text": [
      "\n",
      "--- Feature Importance Breakdown ---\n",
      "| Feature         | Importance   |\n",
      "|:----------------|:-------------|\n",
      "| airport_encoded | 0.410161     |\n",
      "| arr_flights     | 0.341473     |\n",
      "| carrier_encoded | 0.248366     |\n",
      "| year            | 0            |\n",
      "| month           | 0            |\n"
     ]
    },
    {
     "data": {
      "image/png": "[encoded data removed]",
      "text/plain": [
       "<Figure size 1000x600 with 1 Axes>"
      ]
     },
     "metadata": {},
     "output_type": "display_data"
    },
    {
     "name": "stdout",
     "output_type": "stream",
     "text": [
      "\n",
      "Final Results Log:\n",
      "{'MAE': 0.0646, 'R2_Score': 0.4127, 'Features': {'airport_encoded': 0.4102, 'arr_flights': 0.3415, 'carrier_encoded': 0.2484, 'year': 0.0, 'month': 0.0}}\n"
     ]
    }
   ],
   "source": [
    "# --- 8. Model Interpretability: Feature Importance ---\n",
    "feature_importance = pd.Series(\n",
    "    rf_model.feature_importances_, \n",
    "    index=X_train.columns\n",
    ").sort_values(ascending=False).reset_index()\n",
    "\n",
    "feature_importance.columns = ['Feature', 'Importance']\n",
    "\n",
    "print(\"\\n--- Feature Importance Breakdown ---\")\n",
    "print(feature_importance.to_markdown(index=False, numalign=\"left\", stralign=\"left\"))\n",
    "\n",
    "\n",
    "# --- 9. Visualization ---\n",
    "plt.figure(figsize=(10, 6))\n",
    "plt.barh(feature_importance['Feature'], feature_importance['Importance'], color='#00796B')\n",
    "plt.xlabel(\"Feature Importance (Gini-based Score)\")\n",
    "plt.title(\"Random Forest Feature Importance for Flight Delay Rate Prediction\")\n",
    "plt.gca().invert_yaxis()\n",
    "plt.tight_layout()\n",
    "plt.show() # Display the plot\n",
    "# plt.savefig(\"feature_importance_plot.png\") # Uncomment to save the plot\n",
    "\n",
    "# Display the final results as a dictionary (optional for deployment/logging)\n",
    "results = {\n",
    "    \"MAE\": round(mae, 4),\n",
    "    \"R2_Score\": round(r2, 4),\n",
    "    \"Features\": feature_importance.set_index('Feature')['Importance'].round(4).to_dict()\n",
    "}\n",
    "print(\"\\nFinal Results Log:\")\n",
    "print(results)"
   ]
  }
 ],
 "metadata": {
  "kernelspec": {
   "display_name": "Python 3",
   "language": "python",
   "name": "python3"
  },
  "language_info": {
   "codemirror_mode": {
    "name": "ipython",
    "version": 3
   },
   "file_extension": ".py",
   "mimetype": "text/x-python",
   "name": "python",
   "nbconvert_exporter": "python",
   "pygments_lexer": "ipython3",
   "version": "3.12.10"
  }
 },
 "nbformat": 4,
 "nbformat_minor": 5
}
